{
 "cells": [
  {
   "cell_type": "markdown",
   "metadata": {},
   "source": [
    "## Project Details\n",
    "\n",
    "For this project, we will train an agent to navigate (and collect bananas!) in a large, square world.\n",
    "![SegmentLocal](images/banana_project.gif \"segment\")\n",
    "\n",
    "A reward of +1 is provided for collecting a `yellow` banana, and a reward of -1 is provided for collecting a `blue` banana. Thus, the goal of the agent is to collect as many yellow bananas as possible while avoiding blue bananas."
   ]
  },
  {
   "cell_type": "markdown",
   "metadata": {},
   "source": [
    "## Environment Details\n",
    "\n",
    "The simulation contains a single agent that navigates a large environment.  \n",
    "At each time step, it has four actions at its disposal:\n",
    "- `0` - walk forward \n",
    "- `1` - walk backward\n",
    "- `2` - turn left\n",
    "- `3` - turn right\n",
    "\n",
    "The state space has `37` dimensions and contains the agent's velocity, along with ray-based perception of objects around agent's forward direction.  \n",
    "\n",
    "Reward: A reward of `+1` is provided for collecting a yellow banana, and a reward of `-1` is provided for collecting a blue banana. \n",
    "\n",
    "Solving Criteria: The agent is able to receive an average reward (over 100 episodes) of at least `+13`.  "
   ]
  },
  {
   "cell_type": "markdown",
   "metadata": {},
   "source": [
    "## Getting Started\n",
    "\n",
    "### Set up python environment to run the code in this repository, follow the instructions below.\n",
    "\n",
    "1. Create (and activate) a new environment with Python 3.6.\n",
    "\t- __Mac OSX__: \n",
    "\t```bash\n",
    "\tconda create --name drlnd python=3.6\n",
    "\tconda activate drlnd\n",
    "\t```\n",
    "2. Create a DRLND folder and Perform a minimal install of OpenAI gym.  \n",
    "\t```bash\n",
    "    cd DRLND\n",
    "    git clone https://github.com/openai/gym.git\n",
    "    cd gym\n",
    "    pip install -e .\n",
    "    cd ..\n",
    "\t```\n",
    "3. Clone the DRLND repository, and navigate to the `python/` folder.  Then, install several dependencies.\n",
    "    ```bash\n",
    "    git clone https://github.com/udacity/deep-reinforcement-learning.git\n",
    "    cd deep-reinforcement-learning/python\n",
    "    pip install .\n",
    "    ```\n",
    "\n",
    "4. Create an [IPython kernel](http://ipython.readthedocs.io/en/stable/install/kernel_install.html) for the `drlnd` environment.  \n",
    "```bash\n",
    "python -m ipykernel install --user --name drlnd --display-name \"drlnd\"\n",
    "```\n",
    "\n",
    "5. Download the Unity Environment \n",
    "   - __Mac OSX__: [Banana.app.zip](https://s3-us-west-1.amazonaws.com/udacity-drlnd/P1/Banana/Banana.app.zip)\n",
    "\n",
    "\n",
    "6. Place the unzipped file (Banana.app) in the p1_navigation/ folder in the DRLND GitHub repository."
   ]
  },
  {
   "cell_type": "markdown",
   "metadata": {},
   "source": [
    "## Instructions\n",
    "\n",
    "### Run the code in this repository, follow the instructions below.\n",
    "\n",
    "1. Open a jupyter Notebook in the DRLND environment\n",
    "```bash\n",
    "conda activate drlnd\n",
    "jupyter notebook\n",
    "```\n",
    "\n",
    "2. Navigating to p1_navigation/ folder and open the Navigation.ipynb\n",
    "\n",
    "\n",
    "3. Before running code in the notebook, change the kernel to match the `drlnd` environment by using the drop-down `Kernel` menu. \n",
    "![SegmentLocal](images/kernel.png)\n",
    "\n",
    "\n",
    "4. Use 'Shift-Enter' to run codes line by line and watch how the agent gets trained!"
   ]
  },
  {
   "cell_type": "code",
   "execution_count": null,
   "metadata": {},
   "outputs": [],
   "source": []
  }
 ],
 "metadata": {
  "kernelspec": {
   "display_name": "drlnd",
   "language": "python",
   "name": "drlnd"
  },
  "language_info": {
   "codemirror_mode": {
    "name": "ipython",
    "version": 3
   },
   "file_extension": ".py",
   "mimetype": "text/x-python",
   "name": "python",
   "nbconvert_exporter": "python",
   "pygments_lexer": "ipython3",
   "version": "3.6.9"
  }
 },
 "nbformat": 4,
 "nbformat_minor": 2
}
