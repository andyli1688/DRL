{
 "cells": [
  {
   "cell_type": "markdown",
   "metadata": {},
   "source": [
    "## Project Details\n",
    "\n",
    "For this project, we will train an agent to navigate the Tennis environment.\n",
    "\n",
    "![SegmentLocal](images/tennis.png \"segment\")\n",
    "\n",
    "In this environment, two agents control rackets to bounce a ball over a net. If an agent hits the ball over the net, it receives a reward of +0.1. If an agent lets a ball hit the ground or hits the ball out of bounds, it receives a reward of -0.01. Thus, the goal of each agent is to keep the ball in play."
   ]
  },
  {
   "cell_type": "markdown",
   "metadata": {},
   "source": [
    "## Environment Details\n",
    "\n",
    "In this environment, two agents control rackets to bounce a ball over a net. If an agent hits the ball over the net, it receives a reward of +0.1. If an agent lets a ball hit the ground or hits the ball out of bounds, it receives a reward of -0.01. Thus, the goal of each agent is to keep the ball in play.\n",
    "\n",
    "The observation space consists of 8 variables corresponding to the position and velocity of the ball and racket. Each agent receives its own, local observation. Two continuous actions are available, corresponding to movement toward (or away from) the net, and jumping.\n",
    "\n",
    "The task is episodic, and in order to solve the environment, your agents must get an average score of +0.5 (over 100 consecutive episodes, after taking the maximum over both agents). Specifically,\n",
    "\n",
    "After each episode, we add up the rewards that each agent received (without discounting), to get a score for each agent. This yields 2 (potentially different) scores. We then take the maximum of these 2 scores.\n",
    "This yields a single score for each episode.\n",
    "\n",
    "The state for the first agent looks like: [ 0.          0.          0.          0.          0.          0.\n",
    "  0.          0.          0.          0.          0.          0.\n",
    "  0.          0.          0.          0.         -6.65278625 -1.5\n",
    " -0.          0.          6.83172083  6.         -0.          0.        ] \n",
    " \n",
    " \n",
    "## Every entry in the action vector should be a number between -1 and 1.\n",
    "\n",
    "Solving Criteria: \n",
    "\n",
    "The environment is considered solved, when the average (over 100 episodes) of those scores is at least +0.5."
   ]
  },
  {
   "cell_type": "markdown",
   "metadata": {},
   "source": [
    "## Getting Started\n",
    "\n",
    "### Set up python environment to run the code in this repository, follow the instructions below.\n",
    "\n",
    "1. Create (and activate) a new environment with Python 3.6.\n",
    "\t- __Mac OSX__: \n",
    "\t```bash\n",
    "\tconda create --name drlnd python=3.6\n",
    "\tconda activate drlnd\n",
    "\t```\n",
    "2. Create a DRLND folder and Perform a minimal install of OpenAI gym.  \n",
    "\t```bash\n",
    "    cd DRLND\n",
    "    git clone https://github.com/openai/gym.git\n",
    "    cd gym\n",
    "    pip install -e .\n",
    "    cd ..\n",
    "\t```\n",
    "3. Clone the DRLND repository, and navigate to the `python/` folder.  Then, install several dependencies.\n",
    "    ```bash\n",
    "    git clone https://github.com/udacity/deep-reinforcement-learning.git\n",
    "    cd deep-reinforcement-learning/python\n",
    "    pip install .\n",
    "    ```\n",
    "\n",
    "4. Create an [IPython kernel](http://ipython.readthedocs.io/en/stable/install/kernel_install.html) for the `drlnd` environment.  \n",
    "```bash\n",
    "python -m ipykernel install --user --name drlnd --display-name \"drlnd\"\n",
    "```\n",
    "\n",
    "5. Download the Unity Environment \n",
    "   - __Mac OSX__: [Tennis.app.zip](https://s3-us-west-1.amazonaws.com/udacity-drlnd/P3/Tennis/Tennis.app.zip)\n",
    "\n",
    "\n",
    "6. Place the unzipped file (Tennis.app) in the p3_collab-compet/ folder in the DRLND GitHub repository."
   ]
  },
  {
   "cell_type": "markdown",
   "metadata": {},
   "source": [
    "## Instructions\n",
    "\n",
    "### Run the code in this repository, follow the instructions below.\n",
    "\n",
    "1. Open a jupyter Notebook in the DRLND environment\n",
    "```bash\n",
    "conda activate drlnd\n",
    "jupyter notebook\n",
    "```\n",
    "\n",
    "2. Navigating to p1_navigation/ folder and open the Navigation.ipynb\n",
    "\n",
    "\n",
    "3. Before running code in the notebook, change the kernel to match the `drlnd` environment by using the drop-down `Kernel` menu. \n",
    "![SegmentLocal](images/kernel.png)\n",
    "\n",
    "\n",
    "4. Use 'Shift-Enter' to run codes line by line and watch how the agent gets trained!"
   ]
  },
  {
   "cell_type": "code",
   "execution_count": null,
   "metadata": {},
   "outputs": [],
   "source": []
  }
 ],
 "metadata": {
  "kernelspec": {
   "display_name": "drlnd",
   "language": "python",
   "name": "drlnd"
  },
  "language_info": {
   "codemirror_mode": {
    "name": "ipython",
    "version": 3
   },
   "file_extension": ".py",
   "mimetype": "text/x-python",
   "name": "python",
   "nbconvert_exporter": "python",
   "pygments_lexer": "ipython3",
   "version": "3.6.9"
  }
 },
 "nbformat": 4,
 "nbformat_minor": 2
}
